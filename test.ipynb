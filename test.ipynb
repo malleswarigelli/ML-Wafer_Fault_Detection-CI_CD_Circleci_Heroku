{
 "cells": [
  {
   "cell_type": "code",
   "execution_count": 2,
   "metadata": {},
   "outputs": [],
   "source": [
    "import pandas as pd\n",
    "import os"
   ]
  },
  {
   "cell_type": "code",
   "execution_count": 3,
   "metadata": {},
   "outputs": [
    {
     "data": {
      "text/plain": [
       "['Wafer12_20012.csv',\n",
       " 'Waferdefault_15010_130532.csv',\n",
       " 'Wafer_07012020_000000.csv',\n",
       " 'wafer_07012020_041011.csv',\n",
       " 'Wafer_07012020_223345.csv',\n",
       " 'Wafer_08012020_120000.csv',\n",
       " 'Wafer_10012020_131534.csv',\n",
       " 'Wafer_11012020_151432.csv',\n",
       " 'Wafer_12012020_111.csv',\n",
       " 'Wafer_12012020_111213.csv',\n",
       " 'wafer_13012020_090817.csv',\n",
       " 'Wafer_13012020_141000.csv',\n",
       " 'Wafer_14012020_113045.csv',\n",
       " 'Wafer_15010_130532.csv',\n",
       " 'Wafer_15012020_130532.csv',\n",
       " 'wafer_16012020_051629.csv',\n",
       " 'wafer_16012020_134553.csv',\n",
       " 'wafer_17012020_125434.csv',\n",
       " 'Wafer_18012020_121532.csv',\n",
       " 'Wafer_19012020_141432.csv',\n",
       " 'wafer_20012020_090819.csv',\n",
       " 'Wafer_20012020_135132.csv',\n",
       " 'wafer_20022020_090716.csv',\n",
       " 'wafer_21012020_080913.csv',\n",
       " 'Wafer_21012020_143634.csv',\n",
       " 'Wafer_22012020_173245.csv',\n",
       " 'wafer_22022020_041119.csv',\n",
       " 'wafer_23012020_011008.csv',\n",
       " 'wafer_23012020_041211.csv',\n",
       " 'Wafer_23012020_163456.csv',\n",
       " 'Wafer_24012020_150121.csv',\n",
       " 'Wafer_25012020_142112.csv',\n",
       " 'wafer_27012020_080911.csv',\n",
       " 'wafer_28012020_051011.csv',\n",
       " 'wafer_28012020_090817.csv',\n",
       " 'wafer_28042020_031911.csv',\n",
       " 'wafer_29012020_050617.csv',\n",
       " 'wafer_29012020_060756.csv',\n",
       " 'wafer_31012020_090811.csv',\n",
       " 'Wafer_fault_detection.csv',\n",
       " 'Wafer_text_130532.csv']"
      ]
     },
     "execution_count": 3,
     "metadata": {},
     "output_type": "execute_result"
    }
   ],
   "source": [
    "Batch_Directory = 'Training_Batch_Files/'\n",
    "onlyfiles = [f for f in os.listdir(Batch_Directory)]\n",
    "onlyfiles"
   ]
  }
 ],
 "metadata": {
  "kernelspec": {
   "display_name": "base",
   "language": "python",
   "name": "python3"
  },
  "language_info": {
   "codemirror_mode": {
    "name": "ipython",
    "version": 3
   },
   "file_extension": ".py",
   "mimetype": "text/x-python",
   "name": "python",
   "nbconvert_exporter": "python",
   "pygments_lexer": "ipython3",
   "version": "3.9.13"
  },
  "orig_nbformat": 4
 },
 "nbformat": 4,
 "nbformat_minor": 2
}
